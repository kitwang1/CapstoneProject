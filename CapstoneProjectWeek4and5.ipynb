{
 "cells": [
  {
   "cell_type": "markdown",
   "metadata": {},
   "source": [
    "## Capstone Project - To evaluate neighborhood of grammer school in UK\n",
    "### The objective is to compare the neighborhood of school network and find the optimal location in terms of accessibility and convenience of location for grammer schools\n"
   ]
  },
  {
   "cell_type": "markdown",
   "metadata": {},
   "source": [
    "### A description of the problem and a discussion of the background. (15 marks)\n",
    "\n",
    "Restaurant business to serve grammer school in UK focused. Before business opened, it is necessary to evaluate the optimal locations based on neighborhoods of campus.\n",
    "\n",
    "### A description of the data and how it will be used to solve the problem. (15 marks)\n",
    "\n",
    "Data required includes the UK secondary school campus geographic coordinates (latitude and longitude). Evaluate the neighborhood and type of venue categories to evaluate what kind of competition that restaurant business need to face. On the other hand, it can also evaluate the living standards by referring to categories of venues in neighborhoods.\n",
    "\n",
    "\n",
    "### For the second week, the final deliverables of the project will be:\n",
    "\n",
    "### A link to your Notebook on your Github repository, showing your code. (15 marks)\n",
    "\n",
    "\n"
   ]
  },
  {
   "cell_type": "code",
   "execution_count": 1,
   "metadata": {},
   "outputs": [
    {
     "name": "stdout",
     "output_type": "stream",
     "text": [
      "Collecting package metadata (current_repodata.json): done\n",
      "Solving environment: done\n",
      "\n",
      "# All requested packages already installed.\n",
      "\n",
      "Libraries imported.\n"
     ]
    }
   ],
   "source": [
    "import numpy as np # library to handle data in a vectorized manner\n",
    "\n",
    "import pandas as pd # library for data analsysis\n",
    "pd.set_option('display.max_columns', None)\n",
    "pd.set_option('display.max_rows', None)\n",
    "\n",
    "import json # library to handle JSON files\n",
    "\n",
    "#!conda install -c conda-forge geopy --yes # uncomment this line if you haven't completed the Foursquare API lab\n",
    "from geopy.geocoders import Nominatim # convert an address into latitude and longitude values\n",
    "\n",
    "import requests # library to handle requests\n",
    "from pandas.io.json import json_normalize # tranform JSON file into a pandas dataframe\n",
    "\n",
    "# Matplotlib and associated plotting modules\n",
    "import matplotlib.cm as cm\n",
    "import matplotlib.colors as colors\n",
    "\n",
    "# import k-means from clustering stage\n",
    "from sklearn.cluster import KMeans\n",
    "\n",
    "#!conda install -c conda-forge folium=0.5.0 --yes # uncomment this line if you haven't completed the Foursquare API lab\n",
    "import folium # map rendering library\n",
    "\n",
    "print('Libraries imported.')"
   ]
  },
  {
   "cell_type": "code",
   "execution_count": 2,
   "metadata": {},
   "outputs": [],
   "source": [
    "!wget -q -O 'ukpostcodes.zip' https://www.freemaptools.com/download/full-postcodes/ukpostcodes.zip"
   ]
  },
  {
   "cell_type": "code",
   "execution_count": 3,
   "metadata": {},
   "outputs": [],
   "source": [
    "import os\n",
    "import zipfile\n",
    "\n",
    "working_directory = '/Users/kit/CapstoneProject'\n",
    "\n",
    "for file in os.listdir(working_directory):   # get the list of files\n",
    "    if zipfile.is_zipfile(file): # if it is a zipfile, extract it\n",
    "        with zipfile.ZipFile(file) as item: # treat the file as a zip\n",
    "           item.extractall()  # extract it in the working directory\n",
    "        \n",
    "            "
   ]
  },
  {
   "cell_type": "code",
   "execution_count": 4,
   "metadata": {},
   "outputs": [],
   "source": [
    "postcode = pd.read_csv('ukpostcodes.csv')"
   ]
  },
  {
   "cell_type": "code",
   "execution_count": 6,
   "metadata": {},
   "outputs": [
    {
     "data": {
      "text/plain": [
       "(   id  postcode   latitude  longitude\n",
       " 0   1  AB10 1XG  57.144165  -2.114848\n",
       " 1   2  AB10 6RN  57.137880  -2.121487\n",
       " 2   3  AB10 7JB  57.124274  -2.127190\n",
       " 3   4  AB11 5QN  57.142701  -2.093295\n",
       " 4   5  AB11 6UL  57.137547  -2.112233,\n",
       " (1769499, 4))"
      ]
     },
     "execution_count": 6,
     "metadata": {},
     "output_type": "execute_result"
    }
   ],
   "source": [
    "postcode.head(), postcode.shape"
   ]
  },
  {
   "cell_type": "code",
   "execution_count": null,
   "metadata": {},
   "outputs": [],
   "source": []
  }
 ],
 "metadata": {
  "kernelspec": {
   "display_name": "Python 3",
   "language": "python",
   "name": "python3"
  },
  "language_info": {
   "codemirror_mode": {
    "name": "ipython",
    "version": 3
   },
   "file_extension": ".py",
   "mimetype": "text/x-python",
   "name": "python",
   "nbconvert_exporter": "python",
   "pygments_lexer": "ipython3",
   "version": "3.7.6"
  }
 },
 "nbformat": 4,
 "nbformat_minor": 4
}
